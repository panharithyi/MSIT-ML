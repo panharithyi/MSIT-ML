{
  "nbformat": 4,
  "nbformat_minor": 0,
  "metadata": {
    "colab": {
      "provenance": [],
      "collapsed_sections": [
        "6qzbtwtc2yj6",
        "7Hqm2Lkq226h"
      ],
      "include_colab_link": true
    },
    "kernelspec": {
      "name": "python3",
      "display_name": "Python 3"
    },
    "accelerator": "GPU",
    "gpuClass": "standard"
  },
  "cells": [
    {
      "cell_type": "markdown",
      "metadata": {
        "id": "view-in-github",
        "colab_type": "text"
      },
      "source": [
        "<a href=\"https://colab.research.google.com/github/panharithyi/MSIT-ML/blob/main/ML_lecture_14%2615_ANNs.ipynb\" target=\"_parent\"><img src=\"https://colab.research.google.com/assets/colab-badge.svg\" alt=\"Open In Colab\"/></a>"
      ]
    },
    {
      "cell_type": "markdown",
      "source": [
        "# Artificial Neural Networks (ANNs)"
      ],
      "metadata": {
        "id": "_7FMHJlrP9zR"
      }
    },
    {
      "cell_type": "code",
      "metadata": {
        "id": "qBtLqEe6T5my"
      },
      "source": [
        "# Import keras lib\n",
        "\n",
        "from tensorflow import keras\n",
        "from tensorflow.keras import layers"
      ],
      "execution_count": null,
      "outputs": []
    },
    {
      "cell_type": "code",
      "metadata": {
        "id": "zg4WPYICTwdm"
      },
      "source": [
        "# the data, split between train and test sets\n",
        "(x_train, y_train), (x_test, y_test) = keras.datasets.mnist.load_data()"
      ],
      "execution_count": null,
      "outputs": []
    },
    {
      "cell_type": "code",
      "metadata": {
        "id": "bzqC6huvUodH"
      },
      "source": [
        "print(x_train.shape, y_train.shape)\n",
        "print(x_test.shape, y_test.shape)"
      ],
      "execution_count": null,
      "outputs": []
    },
    {
      "cell_type": "code",
      "source": [
        "# plot last frame in 3 diff scales\n",
        "import matplotlib.pyplot as plt \n",
        "\n",
        "num_in_row = 2\n",
        "num_in_col = 4\n",
        "frame_idx = 3 # display frame index\n",
        "\n",
        "plt.rcParams['figure.figsize'] = (10.0, 7.0) # set figure size\n",
        "\n",
        "for i in range(num_in_row * num_in_col):\n",
        "    x = x_train[i]\n",
        "    plt.subplot(num_in_row, num_in_col, i+1)\n",
        "    plt.imshow(x.astype('uint8'))\n",
        "    \n",
        "    plt.title('%s, Label:%d'% (x.shape, y_train[i]))\n",
        "    plt.axis('off')\n",
        "    \n",
        "plt.show()"
      ],
      "metadata": {
        "id": "iBxZt4FFRAdf"
      },
      "execution_count": null,
      "outputs": []
    },
    {
      "cell_type": "code",
      "metadata": {
        "id": "kpCGJoRXWNh3"
      },
      "source": [
        "# Reshape 2D image (28x28) into 1D image (784)\n",
        "x_train_1d = x_train.reshape((x_train.shape[0], -1))\n",
        "x_test_1d = x_test.reshape((x_test.shape[0], -1))\n",
        "\n",
        "# number of classes (0,1,2,3,4,5,6,7,8,9)\n",
        "num_classes = 10\n",
        "\n",
        "y_train = keras.utils.to_categorical(y_train, num_classes)\n",
        "y_test = keras.utils.to_categorical(y_test, num_classes)"
      ],
      "execution_count": null,
      "outputs": []
    },
    {
      "cell_type": "code",
      "metadata": {
        "id": "bQcchyb5Wb2n"
      },
      "source": [
        "print(x_train_1d.shape, y_train.shape)\n",
        "print(x_test_1d.shape, y_test.shape)"
      ],
      "execution_count": null,
      "outputs": []
    },
    {
      "cell_type": "markdown",
      "source": [
        "## Model 1"
      ],
      "metadata": {
        "id": "6qzbtwtc2yj6"
      }
    },
    {
      "cell_type": "code",
      "metadata": {
        "id": "pLtKYlx1XDwQ"
      },
      "source": [
        "# Create model structure\n",
        "\n",
        "# 92% on test data\n",
        "model = keras.Sequential( #grouping below layers\n",
        "    [\n",
        "        keras.Input(shape=(784,)), #784 represents 784 input pixels = 28x28\n",
        "        layers.Dense(15, activation=\"relu\"), # 15 neurons\n",
        "        layers.Dense(15, activation=\"relu\"), # 15 neurons\n",
        "        layers.Dense(num_classes, activation=\"softmax\") # 10 classes (0, 1,2, ..., 9)\n",
        "    ]\n",
        ")"
      ],
      "execution_count": null,
      "outputs": []
    },
    {
      "cell_type": "code",
      "metadata": {
        "id": "-1M6wyJeXKfg"
      },
      "source": [
        "# summary, plot model's structure\n",
        "model.summary()"
      ],
      "execution_count": null,
      "outputs": []
    },
    {
      "cell_type": "markdown",
      "source": [
        "## Model 2"
      ],
      "metadata": {
        "id": "7Hqm2Lkq226h"
      }
    },
    {
      "cell_type": "code",
      "source": [
        "# Create model structure (initiate model)\n",
        "\n",
        "# 94%\n",
        "model = keras.Sequential( #grouping below layers\n",
        "    [\n",
        "        keras.Input(shape=(784,)), #784 represents 784 input pixels = 28x28\n",
        "        layers.Dense(32, activation=\"relu\"),\n",
        "        layers.Dense(64, activation=\"relu\"),\n",
        "        layers.Dense(num_classes, activation=\"softmax\") # 10 classes (0, 1,2, ..., 9)\n",
        "    ]\n",
        ")"
      ],
      "metadata": {
        "id": "MHEuQrK225Vq"
      },
      "execution_count": null,
      "outputs": []
    },
    {
      "cell_type": "markdown",
      "source": [
        "## Model 3"
      ],
      "metadata": {
        "id": "MFfl_aAS-hno"
      }
    },
    {
      "cell_type": "code",
      "source": [
        "# Create model structure (initiate model)\n",
        "\n",
        "# 96%\n",
        "model = keras.Sequential( #grouping below layers\n",
        "    [\n",
        "        keras.Input(shape=(784,)), #784 represents 784 input pixels = 28x28\n",
        "        layers.Dense(32, activation=\"relu\"), \n",
        "        layers.Dense(64, activation=\"relu\"), \n",
        "        layers.Dense(128, activation=\"relu\"), # add another layer\n",
        "        layers.Dense(num_classes, activation=\"softmax\") # 10 classes (0, 1,2, ..., 9)\n",
        "    ]\n",
        ")"
      ],
      "metadata": {
        "id": "6HSFS30C-mo4"
      },
      "execution_count": null,
      "outputs": []
    },
    {
      "cell_type": "markdown",
      "source": [
        "## Model 4"
      ],
      "metadata": {
        "id": "okyMEOH1_iLv"
      }
    },
    {
      "cell_type": "code",
      "source": [
        "# Create model structure (initiate model)\n",
        "\n",
        "# ?"
      ],
      "metadata": {
        "id": "0arSUBXD_lcH"
      },
      "execution_count": null,
      "outputs": []
    },
    {
      "cell_type": "code",
      "metadata": {
        "id": "qEFNu2GqXOiJ",
        "colab": {
          "base_uri": "https://localhost:8080/"
        },
        "outputId": "443766d6-0999-48c7-ad01-d9c92b7e00cd"
      },
      "source": [
        "# it's time to train our model/algorithm\n",
        "\n",
        "# Compile our model, link: https://keras.io/api/models/model_training_apis/\n",
        "## Since, it's a multi-class (10 classes), we use \"categorical_crossentropy\"\n",
        "\n",
        "\n",
        "opt = keras.optimizers.Adam(learning_rate=0.001) #default: 0.001\n",
        "\n",
        "model.compile(loss=\"categorical_crossentropy\", optimizer=opt, metrics=[\"accuracy\"])\n",
        "\n",
        "# Train our model\n",
        "history = model.fit(x_train_1d, y_train, batch_size=64, epochs=20, validation_split=0.2, verbose=1) # 80% of 60000 for training, 20% of 60000 for validation\n",
        "\n",
        "\n",
        "# Model.fit(\n",
        "#     x=None, > training data\n",
        "#     y=None, > training label\n",
        "#     batch_size=None, > batch\n",
        "#     epochs=1, > loop\n",
        "#     verbose=\"auto\", > log, 0, 1, 2\n",
        "#     callbacks=None,\n",
        "#     validation_split=0.0, > split training into training/validation set\n",
        "#)"
      ],
      "execution_count": null,
      "outputs": [
        {
          "output_type": "stream",
          "name": "stdout",
          "text": [
            "Epoch 1/20\n",
            "750/750 [==============================] - 3s 4ms/step - loss: 0.6159 - accuracy: 0.8286 - val_loss: 0.5817 - val_accuracy: 0.8410\n",
            "Epoch 2/20\n",
            "750/750 [==============================] - 3s 3ms/step - loss: 0.5878 - accuracy: 0.8375 - val_loss: 0.5588 - val_accuracy: 0.8494\n",
            "Epoch 3/20\n",
            "750/750 [==============================] - 3s 4ms/step - loss: 0.5680 - accuracy: 0.8438 - val_loss: 0.5422 - val_accuracy: 0.8538\n",
            "Epoch 4/20\n",
            "750/750 [==============================] - 3s 4ms/step - loss: 0.5568 - accuracy: 0.8474 - val_loss: 0.5237 - val_accuracy: 0.8582\n",
            "Epoch 5/20\n",
            "750/750 [==============================] - 2s 3ms/step - loss: 0.5478 - accuracy: 0.8493 - val_loss: 0.5151 - val_accuracy: 0.8616\n",
            "Epoch 6/20\n",
            "750/750 [==============================] - 3s 4ms/step - loss: 0.5410 - accuracy: 0.8523 - val_loss: 0.5109 - val_accuracy: 0.8614\n",
            "Epoch 7/20\n",
            "750/750 [==============================] - 2s 3ms/step - loss: 0.5298 - accuracy: 0.8580 - val_loss: 0.5128 - val_accuracy: 0.8647\n",
            "Epoch 8/20\n",
            "750/750 [==============================] - 3s 4ms/step - loss: 0.5237 - accuracy: 0.8605 - val_loss: 0.5024 - val_accuracy: 0.8678\n",
            "Epoch 9/20\n",
            "750/750 [==============================] - 3s 3ms/step - loss: 0.5129 - accuracy: 0.8641 - val_loss: 0.4974 - val_accuracy: 0.8695\n",
            "Epoch 10/20\n",
            "750/750 [==============================] - 4s 5ms/step - loss: 0.5193 - accuracy: 0.8617 - val_loss: 0.5005 - val_accuracy: 0.8701\n",
            "Epoch 11/20\n",
            "750/750 [==============================] - 3s 3ms/step - loss: 0.5048 - accuracy: 0.8687 - val_loss: 0.4904 - val_accuracy: 0.8739\n",
            "Epoch 12/20\n",
            "750/750 [==============================] - 3s 4ms/step - loss: 0.4977 - accuracy: 0.8710 - val_loss: 0.4831 - val_accuracy: 0.8769\n",
            "Epoch 13/20\n",
            "750/750 [==============================] - 3s 5ms/step - loss: 0.4921 - accuracy: 0.8721 - val_loss: 0.4811 - val_accuracy: 0.8763\n",
            "Epoch 14/20\n",
            "750/750 [==============================] - 3s 4ms/step - loss: 0.4916 - accuracy: 0.8721 - val_loss: 0.4733 - val_accuracy: 0.8763\n",
            "Epoch 15/20\n",
            "750/750 [==============================] - 2s 3ms/step - loss: 0.4947 - accuracy: 0.8696 - val_loss: 0.4834 - val_accuracy: 0.8733\n",
            "Epoch 16/20\n",
            "750/750 [==============================] - 2s 3ms/step - loss: 0.4799 - accuracy: 0.8749 - val_loss: 0.4775 - val_accuracy: 0.8766\n",
            "Epoch 17/20\n",
            "750/750 [==============================] - 3s 4ms/step - loss: 0.4761 - accuracy: 0.8750 - val_loss: 0.4583 - val_accuracy: 0.8801\n",
            "Epoch 18/20\n",
            "750/750 [==============================] - 3s 3ms/step - loss: 0.4733 - accuracy: 0.8757 - val_loss: 0.4651 - val_accuracy: 0.8795\n",
            "Epoch 19/20\n",
            "750/750 [==============================] - 3s 4ms/step - loss: 0.4717 - accuracy: 0.8757 - val_loss: 0.4622 - val_accuracy: 0.8788\n",
            "Epoch 20/20\n",
            "750/750 [==============================] - 3s 4ms/step - loss: 0.4706 - accuracy: 0.8767 - val_loss: 0.4631 - val_accuracy: 0.8813\n"
          ]
        }
      ]
    },
    {
      "cell_type": "code",
      "source": [
        "#y_pred = model.predict(x_test_1d, verbose=1)"
      ],
      "metadata": {
        "id": "V56qKuOG8HVA"
      },
      "execution_count": null,
      "outputs": []
    },
    {
      "cell_type": "code",
      "metadata": {
        "id": "84FVLD_wfpp3",
        "colab": {
          "base_uri": "https://localhost:8080/"
        },
        "outputId": "8b1a0c66-8af1-456f-bb58-a985485e7c8b"
      },
      "source": [
        "score = model.evaluate(x_test_1d, y_test, verbose=0)\n",
        "print(\"Test loss on test data:\", score[0])\n",
        "print(\"Test accuracy on test data:\", score[1])\n"
      ],
      "execution_count": null,
      "outputs": [
        {
          "output_type": "stream",
          "name": "stdout",
          "text": [
            "Test loss on test data: 0.6163585186004639\n",
            "Test accuracy on test data: 0.832099974155426\n"
          ]
        }
      ]
    },
    {
      "cell_type": "markdown",
      "source": [
        "## Save and load our model/algorithm"
      ],
      "metadata": {
        "id": "6dpQbtjNUNWW"
      }
    },
    {
      "cell_type": "code",
      "source": [
        "# Save our model/algorithm after training\n",
        "model.save(\"my_model_96%.h5\")"
      ],
      "metadata": {
        "id": "V3mlf2YNTYym"
      },
      "execution_count": null,
      "outputs": []
    },
    {
      "cell_type": "code",
      "source": [
        "from keras.models import load_model\n",
        "my_model = load_model(\"my_model.h5\")\n",
        "\n",
        "score = my_model.evaluate(x_test_1d, y_test, verbose=0)\n",
        "print(\"Test accuracy:\", score[1])"
      ],
      "metadata": {
        "id": "u5Xknz9wTnD2"
      },
      "execution_count": null,
      "outputs": []
    },
    {
      "cell_type": "markdown",
      "source": [
        "## Plot our accuracy/loss"
      ],
      "metadata": {
        "id": "9Bt_X0NqYayu"
      }
    },
    {
      "cell_type": "code",
      "source": [
        "history.history"
      ],
      "metadata": {
        "id": "zfSyV9mJ6_sx"
      },
      "execution_count": null,
      "outputs": []
    },
    {
      "cell_type": "code",
      "metadata": {
        "id": "u6vqjSlxe1qI",
        "colab": {
          "base_uri": "https://localhost:8080/",
          "height": 899
        },
        "outputId": "1dc6b4cc-345f-4ce4-d63c-5bbb3851cc84"
      },
      "source": [
        "import matplotlib.pyplot as plt\n",
        "\n",
        "# Plot accuracies\n",
        "plt.plot(history.history['accuracy'])\n",
        "plt.plot(history.history['val_accuracy'])\n",
        "plt.title('model accuracy')\n",
        "plt.ylabel('validation accuracy')\n",
        "plt.xlabel('epoch')\n",
        "plt.legend(['training accuracy', 'validation accuracy'], loc='upper left')\n",
        "plt.show()\n",
        "\n",
        "# Plot losses\n",
        "plt.plot(history.history['loss'])\n",
        "plt.plot(history.history['val_loss'])\n",
        "plt.title('model loss')\n",
        "plt.ylabel('validation loss')\n",
        "plt.xlabel('epoch')\n",
        "plt.legend(['training loss', 'validation loss'], loc='upper left')\n",
        "plt.show()"
      ],
      "execution_count": null,
      "outputs": [
        {
          "output_type": "display_data",
          "data": {
            "text/plain": [
              "<Figure size 720x504 with 1 Axes>"
            ],
            "image/png": "[encoded data removed]"
          },
          "metadata": {
            "needs_background": "light"
          }
        },
        {
          "output_type": "display_data",
          "data": {
            "text/plain": [
              "<Figure size 720x504 with 1 Axes>"
            ],
            "image/png": "[encoded data removed]"
          },
          "metadata": {
            "needs_background": "light"
          }
        }
      ]
    }
  ]
}