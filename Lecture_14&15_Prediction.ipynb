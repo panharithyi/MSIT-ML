{
  "nbformat": 4,
  "nbformat_minor": 0,
  "metadata": {
    "colab": {
      "provenance": [],
      "include_colab_link": true
    },
    "kernelspec": {
      "name": "python3",
      "display_name": "Python 3"
    },
    "language_info": {
      "name": "python"
    }
  },
  "cells": [
    {
      "cell_type": "markdown",
      "metadata": {
        "id": "view-in-github",
        "colab_type": "text"
      },
      "source": [
        "<a href=\"https://colab.research.google.com/github/panharithyi/MSIT-ML/blob/main/Lecture_14%2615_Prediction.ipynb\" target=\"_parent\"><img src=\"https://colab.research.google.com/assets/colab-badge.svg\" alt=\"Open In Colab\"/></a>"
      ]
    },
    {
      "cell_type": "code",
      "execution_count": null,
      "metadata": {
        "id": "-4kF7iSg9EgU"
      },
      "outputs": [],
      "source": [
        "from keras.models import load_model\n",
        "my_model = load_model(\"/content/my_model_92%.h5\")"
      ]
    },
    {
      "cell_type": "code",
      "source": [
        "# ... please load your testing data here\n",
        "# x_test, y_test"
      ],
      "metadata": {
        "id": "tuTQvGt09cXg"
      },
      "execution_count": null,
      "outputs": []
    },
    {
      "cell_type": "code",
      "source": [
        "score = my_model.evaluate(x_test, y_test, verbose=0)\n",
        "\n",
        "print(\"Test loss on test data:\", score[0])\n",
        "print(\"Test accuracy on test data:\", score[1])"
      ],
      "metadata": {
        "id": "zGa9fQ-r9XwJ"
      },
      "execution_count": null,
      "outputs": []
    }
  ]
}