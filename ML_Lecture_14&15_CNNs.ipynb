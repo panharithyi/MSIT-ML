{
  "nbformat": 4,
  "nbformat_minor": 0,
  "metadata": {
    "colab": {
      "provenance": [],
      "include_colab_link": true
    },
    "kernelspec": {
      "name": "python3",
      "display_name": "Python 3"
    },
    "accelerator": "GPU",
    "gpuClass": "standard"
  },
  "cells": [
    {
      "cell_type": "markdown",
      "metadata": {
        "id": "view-in-github",
        "colab_type": "text"
      },
      "source": [
        "<a href=\"https://colab.research.google.com/github/panharithyi/MSIT-ML/blob/main/ML_Lecture_14%2615_CNNs.ipynb\" target=\"_parent\"><img src=\"https://colab.research.google.com/assets/colab-badge.svg\" alt=\"Open In Colab\"/></a>"
      ]
    },
    {
      "cell_type": "markdown",
      "metadata": {
        "id": "dKBdH397UDhS"
      },
      "source": [
        "#Convolutional Neural Networks (CNNs)"
      ]
    },
    {
      "cell_type": "code",
      "metadata": {
        "id": "qBtLqEe6T5my"
      },
      "source": [
        "# import keras lib\n",
        "\n",
        "import numpy as np\n",
        "from tensorflow import keras\n",
        "from tensorflow.keras import layers"
      ],
      "execution_count": null,
      "outputs": []
    },
    {
      "cell_type": "code",
      "metadata": {
        "id": "zg4WPYICTwdm",
        "colab": {
          "base_uri": "https://localhost:8080/"
        },
        "outputId": "e433faaa-b6c3-4324-84f4-2f9c4d458c71"
      },
      "source": [
        "# the data, split between train and test sets\n",
        "(x_train, y_train), (x_test, y_test) = keras.datasets.mnist.load_data()"
      ],
      "execution_count": null,
      "outputs": [
        {
          "output_type": "stream",
          "name": "stdout",
          "text": [
            "Downloading data from https://storage.googleapis.com/tensorflow/tf-keras-datasets/mnist.npz\n",
            "11490434/11490434 [==============================] - 0s 0us/step\n"
          ]
        }
      ]
    },
    {
      "cell_type": "code",
      "metadata": {
        "id": "bzqC6huvUodH",
        "colab": {
          "base_uri": "https://localhost:8080/"
        },
        "outputId": "8b188e2c-7b53-4abe-c1df-b076e6b82af3"
      },
      "source": [
        "# show shape\n",
        "print(x_train.shape, y_train.shape)\n",
        "print(x_test.shape, y_test.shape)"
      ],
      "execution_count": null,
      "outputs": [
        {
          "output_type": "stream",
          "name": "stdout",
          "text": [
            "(60000, 28, 28) (60000,)\n",
            "(10000, 28, 28) (10000,)\n"
          ]
        }
      ]
    },
    {
      "cell_type": "code",
      "metadata": {
        "id": "J15rcgBab5Wd"
      },
      "source": [
        "# add another dimension to training set\n",
        "x_train_3d = np.expand_dims(x_train, axis=3)\n",
        "x_test_3d = np.expand_dims(x_test, axis=3)\n",
        "\n",
        "# number of classes (0,1,2,3,4,5,6,7,8,9)\n",
        "num_classes = 10\n",
        "\n",
        "# add another dimension to target label\n",
        "y_train = keras.utils.to_categorical(y_train, num_classes)\n",
        "y_test = keras.utils.to_categorical(y_test, num_classes)"
      ],
      "execution_count": null,
      "outputs": []
    },
    {
      "cell_type": "code",
      "metadata": {
        "id": "LmXaH_pqcgSc",
        "colab": {
          "base_uri": "https://localhost:8080/"
        },
        "outputId": "11b055fc-31d7-42d3-efe5-c01d0043e914"
      },
      "source": [
        "#show shape\n",
        "print(x_train_3d.shape, y_train.shape)\n",
        "print(x_test_3d.shape, y_test.shape)"
      ],
      "execution_count": null,
      "outputs": [
        {
          "output_type": "stream",
          "name": "stdout",
          "text": [
            "(60000, 28, 28, 1) (60000, 10)\n",
            "(10000, 28, 28, 1) (10000, 10)\n"
          ]
        }
      ]
    },
    {
      "cell_type": "markdown",
      "source": [
        "## Model 1"
      ],
      "metadata": {
        "id": "Yo_UFbsMLUal"
      }
    },
    {
      "cell_type": "code",
      "metadata": {
        "id": "pLtKYlx1XDwQ"
      },
      "source": [
        "# 1.build a model\n",
        "\n",
        "# accuracy on test data: 98.x%\n",
        "\n",
        "model = keras.Sequential(\n",
        "    [\n",
        "        keras.Input(shape=(28, 28, 1)), # represent gray scale image (28x28)\n",
        "     \n",
        "        layers.Conv2D(32, kernel_size=(3, 3), activation=\"relu\"), # Convolution Layer + ReLU layer\n",
        "        layers.MaxPooling2D(pool_size=(2, 2)), # Pooling Layer \n",
        "     \n",
        "        layers.Conv2D(64, kernel_size=(3, 3), activation=\"relu\"),\n",
        "        layers.MaxPooling2D(pool_size=(2, 2)),\n",
        "        \n",
        "        layers.Flatten(), # reshape from 2D to 1D\n",
        "        layers.Dense(10, activation=\"softmax\")\n",
        "    ]\n",
        ")"
      ],
      "execution_count": null,
      "outputs": []
    },
    {
      "cell_type": "markdown",
      "source": [
        "## Model 2"
      ],
      "metadata": {
        "id": "SnQC5VqKM9IF"
      }
    },
    {
      "cell_type": "code",
      "source": [
        "# 1.build a model\n",
        "\n",
        "# accuracy on test data: 99.x%\n",
        "\n",
        "model = keras.Sequential(\n",
        "    [\n",
        "        keras.Input(shape=(28, 28, 1)), # represent gray scale image (28x28)\n",
        "     \n",
        "        layers.Conv2D(32, kernel_size=(3, 3), activation=\"relu\"), # Convolution Layer + ReLU layer\n",
        "        layers.MaxPooling2D(pool_size=(2, 2)),\n",
        "     \n",
        "        layers.Conv2D(64, kernel_size=(3, 3), activation=\"relu\"),\n",
        "        layers.MaxPooling2D(pool_size=(2, 2)),\n",
        "     \n",
        "        layers.Dropout(0.5),\n",
        "\n",
        "        layers.Flatten(), # reshape from 2D to 1D\n",
        "        layers.Dense(10, activation=\"softmax\")\n",
        "    ]\n",
        ")"
      ],
      "metadata": {
        "id": "LL8fh7p-M-5U"
      },
      "execution_count": null,
      "outputs": []
    },
    {
      "cell_type": "markdown",
      "source": [
        "## Model 3"
      ],
      "metadata": {
        "id": "66LpxIUQReVT"
      }
    },
    {
      "cell_type": "code",
      "source": [
        "# 1.build a model\n",
        "\n",
        "# accuracy on test data: ?\n",
        "\n",
        "model = keras.Sequential(\n",
        "    [\n",
        "        keras.Input(shape=(28, 28, 1)), # represent gray scale image (28x28)\n",
        "     \n",
        "        layers.Conv2D(32, kernel_size=(3, 3), activation=\"relu\"), # Convolution Layer + ReLU layer\n",
        "        layers.BatchNormalization(),\n",
        "        layers.MaxPooling2D(pool_size=(2, 2)),\n",
        "     \n",
        "        layers.Conv2D(64, kernel_size=(3, 3), activation=\"relu\"),\n",
        "        layers.BatchNormalization(),\n",
        "        layers.MaxPooling2D(pool_size=(2, 2)),\n",
        "     \n",
        "\n",
        "        layers.Conv2D(128, kernel_size=(3, 3), activation=\"relu\"),\n",
        "        layers.BatchNormalization(),\n",
        "        layers.MaxPooling2D(pool_size=(2, 2)),\n",
        "     \n",
        "        #layers.Dropout(0.5),\n",
        "\n",
        "        layers.Flatten(), # reshape from 2D to 1D\n",
        "        layers.Dense(10, activation=\"softmax\")\n",
        "    ]\n",
        ")"
      ],
      "metadata": {
        "id": "0h4idkpWRgEj"
      },
      "execution_count": null,
      "outputs": []
    },
    {
      "cell_type": "code",
      "metadata": {
        "id": "-1M6wyJeXKfg",
        "colab": {
          "base_uri": "https://localhost:8080/"
        },
        "outputId": "dca81e8a-f7f6-4d21-bb8c-4a24ae1beefb"
      },
      "source": [
        "# plot a model\n",
        "model.summary()"
      ],
      "execution_count": null,
      "outputs": [
        {
          "output_type": "stream",
          "name": "stdout",
          "text": [
            "Model: \"sequential_2\"\n",
            "_________________________________________________________________\n",
            " Layer (type)                Output Shape              Param #   \n",
            "=================================================================\n",
            " conv2d_5 (Conv2D)           (None, 26, 26, 32)        320       \n",
            "                                                                 \n",
            " conv2d_6 (Conv2D)           (None, 24, 24, 64)        18496     \n",
            "                                                                 \n",
            " max_pooling2d_4 (MaxPooling  (None, 12, 12, 64)       0         \n",
            " 2D)                                                             \n",
            "                                                                 \n",
            " flatten_2 (Flatten)         (None, 9216)              0         \n",
            "                                                                 \n",
            " dense_2 (Dense)             (None, 10)                92170     \n",
            "                                                                 \n",
            "=================================================================\n",
            "Total params: 110,986\n",
            "Trainable params: 110,986\n",
            "Non-trainable params: 0\n",
            "_________________________________________________________________\n"
          ]
        }
      ]
    },
    {
      "cell_type": "code",
      "metadata": {
        "id": "qEFNu2GqXOiJ",
        "colab": {
          "base_uri": "https://localhost:8080/"
        },
        "outputId": "0fa3c923-64ba-4bea-a09b-4476bff19f3a"
      },
      "source": [
        "# 2. Compile and train our model\n",
        "\n",
        "opt = keras.optimizers.Adam(learning_rate=0.001) #default: 0.001\n",
        "model.compile(loss=\"categorical_crossentropy\", optimizer=opt, metrics=[\"accuracy\"])\n",
        "\n",
        "history = model.fit(x_train_3d, y_train, batch_size=128, epochs=25, validation_split=0.2) # 80% of 60000 for training, 20% of 60000 for validation"
      ],
      "execution_count": null,
      "outputs": [
        {
          "output_type": "stream",
          "name": "stdout",
          "text": [
            "Epoch 1/25\n",
            "375/375 [==============================] - 4s 8ms/step - loss: 0.1463 - accuracy: 0.9554 - val_loss: 0.0903 - val_accuracy: 0.9726\n",
            "Epoch 2/25\n",
            "375/375 [==============================] - 2s 7ms/step - loss: 0.0486 - accuracy: 0.9854 - val_loss: 0.0558 - val_accuracy: 0.9828\n",
            "Epoch 3/25\n",
            "375/375 [==============================] - 2s 7ms/step - loss: 0.0321 - accuracy: 0.9902 - val_loss: 0.0534 - val_accuracy: 0.9826\n",
            "Epoch 4/25\n",
            "375/375 [==============================] - 3s 7ms/step - loss: 0.0212 - accuracy: 0.9938 - val_loss: 0.0653 - val_accuracy: 0.9798\n",
            "Epoch 5/25\n",
            "375/375 [==============================] - 2s 7ms/step - loss: 0.0162 - accuracy: 0.9950 - val_loss: 0.0533 - val_accuracy: 0.9839\n",
            "Epoch 6/25\n",
            "375/375 [==============================] - 2s 7ms/step - loss: 0.0131 - accuracy: 0.9958 - val_loss: 0.0608 - val_accuracy: 0.9823\n",
            "Epoch 7/25\n",
            "375/375 [==============================] - 2s 7ms/step - loss: 0.0088 - accuracy: 0.9973 - val_loss: 0.0601 - val_accuracy: 0.9833\n",
            "Epoch 8/25\n",
            "375/375 [==============================] - 2s 7ms/step - loss: 0.0089 - accuracy: 0.9975 - val_loss: 0.0637 - val_accuracy: 0.9829\n",
            "Epoch 9/25\n",
            "375/375 [==============================] - 3s 7ms/step - loss: 0.0074 - accuracy: 0.9979 - val_loss: 0.0685 - val_accuracy: 0.9813\n",
            "Epoch 10/25\n",
            "375/375 [==============================] - 3s 7ms/step - loss: 0.0068 - accuracy: 0.9979 - val_loss: 0.0548 - val_accuracy: 0.9867\n",
            "Epoch 11/25\n",
            "375/375 [==============================] - 2s 7ms/step - loss: 0.0098 - accuracy: 0.9968 - val_loss: 0.0572 - val_accuracy: 0.9864\n",
            "Epoch 12/25\n",
            "375/375 [==============================] - 2s 7ms/step - loss: 0.0083 - accuracy: 0.9972 - val_loss: 0.0505 - val_accuracy: 0.9869\n",
            "Epoch 13/25\n",
            "375/375 [==============================] - 3s 8ms/step - loss: 0.0030 - accuracy: 0.9993 - val_loss: 0.0480 - val_accuracy: 0.9883\n",
            "Epoch 14/25\n",
            "375/375 [==============================] - 3s 7ms/step - loss: 0.0015 - accuracy: 0.9996 - val_loss: 0.0457 - val_accuracy: 0.9902\n",
            "Epoch 15/25\n",
            "375/375 [==============================] - 3s 7ms/step - loss: 5.3428e-04 - accuracy: 1.0000 - val_loss: 0.0433 - val_accuracy: 0.9907\n",
            "Epoch 16/25\n",
            "375/375 [==============================] - 3s 7ms/step - loss: 2.2224e-04 - accuracy: 1.0000 - val_loss: 0.0467 - val_accuracy: 0.9903\n",
            "Epoch 17/25\n",
            "375/375 [==============================] - 2s 7ms/step - loss: 0.0182 - accuracy: 0.9938 - val_loss: 0.0771 - val_accuracy: 0.9816\n",
            "Epoch 18/25\n",
            "375/375 [==============================] - 2s 7ms/step - loss: 0.0086 - accuracy: 0.9970 - val_loss: 0.0520 - val_accuracy: 0.9872\n",
            "Epoch 19/25\n",
            "375/375 [==============================] - 2s 7ms/step - loss: 0.0025 - accuracy: 0.9994 - val_loss: 0.0471 - val_accuracy: 0.9896\n",
            "Epoch 20/25\n",
            "375/375 [==============================] - 3s 7ms/step - loss: 6.2467e-04 - accuracy: 0.9999 - val_loss: 0.0478 - val_accuracy: 0.9901\n",
            "Epoch 21/25\n",
            "375/375 [==============================] - 3s 7ms/step - loss: 2.3390e-04 - accuracy: 1.0000 - val_loss: 0.0458 - val_accuracy: 0.9909\n",
            "Epoch 22/25\n",
            "375/375 [==============================] - 2s 7ms/step - loss: 1.2556e-04 - accuracy: 1.0000 - val_loss: 0.0466 - val_accuracy: 0.9902\n",
            "Epoch 23/25\n",
            "375/375 [==============================] - 2s 7ms/step - loss: 8.8887e-05 - accuracy: 1.0000 - val_loss: 0.0471 - val_accuracy: 0.9907\n",
            "Epoch 24/25\n",
            "375/375 [==============================] - 3s 7ms/step - loss: 6.5961e-05 - accuracy: 1.0000 - val_loss: 0.0476 - val_accuracy: 0.9905\n",
            "Epoch 25/25\n",
            "375/375 [==============================] - 2s 7ms/step - loss: 5.2516e-05 - accuracy: 1.0000 - val_loss: 0.0482 - val_accuracy: 0.9906\n"
          ]
        }
      ]
    },
    {
      "cell_type": "code",
      "metadata": {
        "id": "kbMkjGhHh4sY",
        "colab": {
          "base_uri": "https://localhost:8080/",
          "height": 573
        },
        "outputId": "c634e7b9-b58c-4bac-e071-8d36ca3cd796"
      },
      "source": [
        "import matplotlib.pyplot as plt\n",
        "\n",
        "# Plot accuracies\n",
        "plt.plot(history.history['accuracy'])\n",
        "plt.plot(history.history['val_accuracy'])\n",
        "plt.title('model accuracy')\n",
        "plt.ylabel('accuracy')\n",
        "plt.xlabel('epoch')\n",
        "plt.legend(['training accuracy', 'validation accuracy'], loc='upper left')\n",
        "plt.show()\n",
        "\n",
        "# Plot losses\n",
        "plt.plot(history.history['loss'])\n",
        "plt.plot(history.history['val_loss'])\n",
        "plt.title('model loss')\n",
        "plt.ylabel('loss')\n",
        "plt.xlabel('epoch')\n",
        "plt.legend(['training loss', 'validation loss'], loc='upper left')\n",
        "plt.show()"
      ],
      "execution_count": null,
      "outputs": [
        {
          "output_type": "display_data",
          "data": {
            "text/plain": [
              "<Figure size 432x288 with 1 Axes>"
            ],
            "image/png": "[encoded data removed]"
          },
          "metadata": {
            "needs_background": "light"
          }
        },
        {
          "output_type": "display_data",
          "data": {
            "text/plain": [
              "<Figure size 432x288 with 1 Axes>"
            ],
            "image/png": "[encoded data removed]"
          },
          "metadata": {
            "needs_background": "light"
          }
        }
      ]
    },
    {
      "cell_type": "code",
      "metadata": {
        "id": "yPry6P8hiBPE",
        "colab": {
          "base_uri": "https://localhost:8080/"
        },
        "outputId": "f7cb3f48-a6a5-40af-c437-c3771bc4f247"
      },
      "source": [
        "# evaluate our model on test set\n",
        "\n",
        "score = model.evaluate(x_test_3d, y_test, verbose=0)\n",
        "print(\"Test loss on test data:\", score[0])\n",
        "print(\"Test accuracy on test data (10000 images):\", score[1])"
      ],
      "execution_count": null,
      "outputs": [
        {
          "output_type": "stream",
          "name": "stdout",
          "text": [
            "Test loss on test data: 0.035628028213977814\n",
            "Test accuracy on test data (10000 images): 0.9907000064849854\n"
          ]
        }
      ]
    },
    {
      "cell_type": "code",
      "source": [
        "model.save(\"my_model_99%.h5\")"
      ],
      "metadata": {
        "id": "6SuuGYAgdqlV"
      },
      "execution_count": null,
      "outputs": []
    },
    {
      "cell_type": "code",
      "source": [
        "from keras.models import load_model\n",
        "my_model = load_model(\"/content/my_model_99%.h5\")"
      ],
      "metadata": {
        "id": "n6qzqmxhdyvO"
      },
      "execution_count": null,
      "outputs": []
    },
    {
      "cell_type": "code",
      "source": [
        "# evaluate our model on test set\n",
        "\n",
        "score = model.evaluate(x_test_3d[:10], y_test[:10], verbose=0)\n",
        "#print(\"Test loss:\", score[0])\n",
        "print(\"Test accuracy:\", score[1])"
      ],
      "metadata": {
        "id": "IOTrjvBCd5ne",
        "colab": {
          "base_uri": "https://localhost:8080/"
        },
        "outputId": "f2d1659c-6ea3-48b3-dcfe-b6268c2b1d60"
      },
      "execution_count": null,
      "outputs": [
        {
          "output_type": "stream",
          "name": "stdout",
          "text": [
            "Test accuracy: 1.0\n"
          ]
        }
      ]
    }
  ]
}